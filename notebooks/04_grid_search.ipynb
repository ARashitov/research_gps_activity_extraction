{
 "cells": [
  {
   "cell_type": "markdown",
   "id": "7727da0e",
   "metadata": {},
   "source": [
    "# About\n",
    "* **Author**: Adil Rashitov (adil.rashitov.98@gmail.com)\n",
    "* **Created at**: 20.01.2022\n"
   ]
  },
  {
   "cell_type": "code",
   "execution_count": null,
   "id": "0d4c7bdb",
   "metadata": {
    "code_folding": [
     0
    ]
   },
   "outputs": [],
   "source": [
    "# Imports / Configs / Global vars\n",
    "\n",
    "# Import of native python tools\n",
    "import os\n",
    "import json\n",
    "from functools import reduce\n",
    "\n",
    "# Import of base ML stack libs\n",
    "import numpy as np\n",
    "import sklearn as sc\n",
    "\n",
    "# Visualization libraries\n",
    "# import plotly.express as px\n",
    "\n",
    "# Logging configuraiton\n",
    "import logging\n",
    "logging.basicConfig(format='[ %(asctime)s ][ %(levelname)s ]: %(message)s', datefmt='%m/%d/%Y %I:%M:%S %p')\n",
    "logger = logging.getLogger()\n",
    "logger.setLevel(logging.INFO)\n",
    "\n",
    "\n",
    "# Ipython configs\n",
    "from IPython.core.display import display, HTML\n",
    "from IPython.core.interactiveshell import InteractiveShell\n",
    "display(HTML(\"<style>.container { width:100% !important; }</style>\"))\n",
    "InteractiveShell.ast_node_interactivity = 'all'\n",
    "\n",
    "# Pandas configs\n",
    "import pandas as pd\n",
    "import geopandas as gpd\n",
    "pd.options.display.max_rows = 350\n",
    "pd.options.display.max_columns = 250\n",
    "\n",
    "# Jupyter configs\n",
    "%load_ext autoreload\n",
    "%autoreload 2\n",
    "%config Completer.use_jedi = False\n",
    "\n",
    "# Configure project PATH\n",
    "from pathlib import Path\n",
    "import sys\n",
    "PROJECT_PATH = os.getcwd().rsplit('/', 1)[0]\n",
    "\n",
    "\n",
    "if PROJECT_PATH not in sys.path:\n",
    "    sys.path.append(PROJECT_PATH)"
   ]
  },
  {
   "cell_type": "markdown",
   "id": "b102604f",
   "metadata": {
    "code_folding": []
   },
   "source": [
    "# Data"
   ]
  },
  {
   "cell_type": "code",
   "execution_count": null,
   "id": "266705cd",
   "metadata": {
    "code_folding": [
     0
    ]
   },
   "outputs": [],
   "source": [
    "gps_records = pd.read_parquet(\"../data/02_intermediate/gps_records.parquet\")\n",
    "route_plans = pd.read_parquet(\"../data/02_intermediate/route_plan.parquet\")"
   ]
  },
  {
   "cell_type": "code",
   "execution_count": null,
   "id": "401784d0",
   "metadata": {},
   "outputs": [],
   "source": [
    "gps_records[\"plate_no\"].unique()"
   ]
  },
  {
   "cell_type": "code",
   "execution_count": null,
   "id": "33aac1d7",
   "metadata": {},
   "outputs": [],
   "source": [
    "overlapping_dates = np.intersect1d(\n",
    "    list(pd.to_datetime(gps_records[\"datetime\"]).dt.date.astype(str).unique()),\n",
    "    list(pd.to_datetime(route_plans[\"date\"]).dt.date.astype(str).unique()),\n",
    ")\n",
    "route_plans"
   ]
  },
  {
   "cell_type": "code",
   "execution_count": null,
   "id": "6af1f6f1",
   "metadata": {
    "code_folding": [
     7,
     30
    ]
   },
   "outputs": [],
   "source": [
    "from gps_activity import ActivityExtractionSession\n",
    "from gps_activity.extraction.factory.preprocessing import PreprocessingFactory\n",
    "from gps_activity.extraction.factory.fragmentation import VelocityFragmentationFactory\n",
    "from gps_activity.extraction.factory.clustering import FDBSCANFactory\n",
    "\n",
    "\n",
    "\n",
    "def factory_vfhdbscan(max_velocity_hard_limit: float, eps: float, min_samples: int) -> ActivityExtractionSession:\n",
    "    preprocessing = PreprocessingFactory.factory_pipeline(\n",
    "        source_lat_column=\"lat\",\n",
    "        source_lon_column=\"lon\",\n",
    "        source_datetime=\"datetime\",\n",
    "        source_vehicle_id=\"plate_no\",\n",
    "        source_crs=\"EPSG:4326\",\n",
    "        target_crs=\"EPSG:2326\",\n",
    "    )\n",
    "\n",
    "    fragmentation = VelocityFragmentationFactory.factory_pipeline(max_velocity_hard_limit=4)\n",
    "    clustering = FDBSCANFactory.factory_pipeline(\n",
    "        source_vehicle_id_column=\"plate_no\",\n",
    "        eps=30,\n",
    "        min_samples=3,\n",
    "    )\n",
    "    return ActivityExtractionSession(\n",
    "        preprocessing=preprocessing,\n",
    "        fragmentation=fragmentation,\n",
    "        clustering=clustering,\n",
    "    )\n",
    "\n",
    "\n",
    "def factory_stcm(max_velocity_hard_limit: float, eps: float, min_duration_sec: float) -> ActivityExtractionSession:\n",
    "    preprocessing = PreprocessingFactory.factory_pipeline(\n",
    "        source_lat_column=\"lat\",\n",
    "        source_lon_column=\"lon\",\n",
    "        source_datetime=\"datetime\",\n",
    "        source_vehicle_id=\"plate_no\",\n",
    "        source_crs=\"EPSG:4326\",\n",
    "        target_crs=\"EPSG:2326\",\n",
    "    )\n",
    "\n",
    "    fragmentation = VelocityFragmentationFactory.factory_pipeline(max_velocity_hard_limit=4)\n",
    "    clustering = STCMFactory.factory_pipeline(\n",
    "        source_vehicle_id_column=\"plate_no\",\n",
    "        eps=30,\n",
    "        min_duration_sec=60\n",
    "    )\n",
    "\n",
    "    stcm = ActivityExtractionSession(\n",
    "        preprocessing=preprocessing,\n",
    "        fragmentation=fragmentation,\n",
    "        clustering=clustering,\n",
    "    )"
   ]
  },
  {
   "cell_type": "markdown",
   "id": "53060446",
   "metadata": {},
   "source": [
    "## Main :: linkage"
   ]
  },
  {
   "cell_type": "code",
   "execution_count": null,
   "id": "e1e7748f",
   "metadata": {
    "code_folding": [
     0,
     14,
     22
    ]
   },
   "outputs": [],
   "source": [
    "# Linker components definition\n",
    "from gps_activity.linker.factory import PreprocessingFactory\n",
    "from gps_activity.models import DataFramePivotFields\n",
    "from gps_activity.linker.factory import ClusterAggregationFactory\n",
    "from gps_activity.linker.factory import ClusterAggregationFactory\n",
    "from gps_activity.linker.factory import JoinValidatorFactory\n",
    "from gps_activity.linker.factory import SpatialJoinerFactory\n",
    "from gps_activity.linker.factory import CoverageStatisticsFactory\n",
    "\n",
    "\n",
    "WSG_84=\"EPSG:4326\"\n",
    "HK_CRS=\"EPSG:2326\"\n",
    "\n",
    "\n",
    "gps_pivot_fields = DataFramePivotFields(\n",
    "    source_lat=\"lat\",\n",
    "    source_lon=\"lon\",\n",
    "    source_datetime=\"datetime\",\n",
    "    source_vehicle_id=\"plate_no\",\n",
    ")\n",
    "\n",
    "\n",
    "gps_preprocess_pipeline = PreprocessingFactory.factory_pipeline(\n",
    "    source_lat_column=gps_pivot_fields.source_lat,\n",
    "    source_lon_column=gps_pivot_fields.source_lon,\n",
    "    source_datetime=gps_pivot_fields.source_datetime,\n",
    "    source_vehicle_id=gps_pivot_fields.source_vehicle_id,\n",
    "    source_crs=WSG_84,\n",
    "    target_crs=HK_CRS,\n",
    "    generate_primary_key_for=\"gps\",\n",
    "    source_composite_keys=[\n",
    "        gps_pivot_fields.source_vehicle_id,\n",
    "        gps_pivot_fields.source_datetime,\n",
    "        gps_pivot_fields.source_lat,\n",
    "        gps_pivot_fields.source_lon,\n",
    "    ],\n",
    ")\n",
    "\n",
    "\n",
    "plans_pivot_fields = DataFramePivotFields(\n",
    "    source_lat=\"lat\",\n",
    "    source_lon=\"lng\",\n",
    "    source_datetime=\"date\",\n",
    "    source_vehicle_id=\"plate_no\",\n",
    "    plans_pk=\"service_point_id\",\n",
    ")\n",
    "\n",
    "\n",
    "plans_preprocess_pipeline = PreprocessingFactory.factory_pipeline(\n",
    "    source_lat_column=plans_pivot_fields.source_lat,\n",
    "    source_lon_column=plans_pivot_fields.source_lon,\n",
    "    source_datetime=plans_pivot_fields.source_datetime,\n",
    "    source_vehicle_id=plans_pivot_fields.source_vehicle_id,\n",
    "    source_crs=WSG_84,\n",
    "    target_crs=HK_CRS,\n",
    "    generate_primary_key_for=\"plan\",\n",
    "    source_composite_keys=[plans_pivot_fields.plans_pk],\n",
    ")\n",
    "\n",
    "cluster_agg_pipeline = ClusterAggregationFactory.factory_pipeline(\n",
    "    source_lat_column=gps_pivot_fields.source_lat,\n",
    "    source_lon_column=gps_pivot_fields.source_lon,\n",
    "    source_datetime=gps_pivot_fields.source_datetime,\n",
    "    source_vehicle_id=gps_pivot_fields.source_vehicle_id,\n",
    "    source_crs=WSG_84,\n",
    "    target_crs=HK_CRS,\n",
    ")\n",
    "\n",
    "\n",
    "spatial_joiner = SpatialJoinerFactory.factory_pipeline(how=\"inner\", max_distance=80)\n",
    "spatial_validator = JoinValidatorFactory.factory_pipeline(\n",
    "    max_days_distance=1,\n",
    "    ensure_vehicle_overlap=False,\n",
    ")\n",
    "\n",
    "coverage_stats_extractor = CoverageStatisticsFactory.factory_pipeline()"
   ]
  },
  {
   "cell_type": "code",
   "execution_count": null,
   "id": "c12d222c",
   "metadata": {},
   "outputs": [],
   "source": [
    "from gps_activity import ActivityLinkageSession\n",
    "\n",
    "\n",
    "linkage_session = ActivityLinkageSession(\n",
    "    gps_preprocessor=gps_preprocess_pipeline,\n",
    "    plan_preprocessor=plans_preprocess_pipeline,\n",
    "    cluster_aggregator=cluster_agg_pipeline,\n",
    "    spatial_joiner=spatial_joiner,\n",
    "    spatial_validator=spatial_validator,\n",
    "    coverage_stats_extractor=coverage_stats_extractor\n",
    ")"
   ]
  },
  {
   "cell_type": "code",
   "execution_count": null,
   "id": "884fb298",
   "metadata": {},
   "outputs": [],
   "source": [
    "linkage_data_container = linkage_session.transform(gps=gps_stcm, plan=plan)"
   ]
  },
  {
   "cell_type": "code",
   "execution_count": null,
   "id": "355b4289",
   "metadata": {},
   "outputs": [],
   "source": [
    "cov_stats = linkage_session.compute_coverage_stats(gps=gps_stcm, plan=plan)\n",
    "cov_stats"
   ]
  },
  {
   "cell_type": "markdown",
   "id": "96345d19",
   "metadata": {},
   "source": [
    "## Main :: metrics"
   ]
  },
  {
   "cell_type": "code",
   "execution_count": null,
   "id": "4341d17e",
   "metadata": {},
   "outputs": [],
   "source": [
    "from gps_activity import ActivityMetricsSession"
   ]
  },
  {
   "cell_type": "code",
   "execution_count": null,
   "id": "fac08ed3",
   "metadata": {},
   "outputs": [],
   "source": [
    "metrics = ActivityMetricsSession()\n",
    "computed_metrics = metrics.transform(X=linkage_data_container)\n",
    "computed_metrics.dict()"
   ]
  },
  {
   "cell_type": "code",
   "execution_count": null,
   "id": "37ba8210",
   "metadata": {},
   "outputs": [],
   "source": []
  }
 ],
 "metadata": {
  "kernelspec": {
   "display_name": "Python 3 (ipykernel)",
   "language": "python",
   "name": "python3"
  },
  "language_info": {
   "codemirror_mode": {
    "name": "ipython",
    "version": 3
   },
   "file_extension": ".py",
   "mimetype": "text/x-python",
   "name": "python",
   "nbconvert_exporter": "python",
   "pygments_lexer": "ipython3",
   "version": "3.10.9"
  },
  "varInspector": {
   "cols": {
    "lenName": 16,
    "lenType": 16,
    "lenVar": 40
   },
   "kernels_config": {
    "python": {
     "delete_cmd_postfix": "",
     "delete_cmd_prefix": "del ",
     "library": "var_list.py",
     "varRefreshCmd": "print(var_dic_list())"
    },
    "r": {
     "delete_cmd_postfix": ") ",
     "delete_cmd_prefix": "rm(",
     "library": "var_list.r",
     "varRefreshCmd": "cat(var_dic_list()) "
    }
   },
   "types_to_exclude": [
    "module",
    "function",
    "builtin_function_or_method",
    "instance",
    "_Feature"
   ],
   "window_display": false
  }
 },
 "nbformat": 4,
 "nbformat_minor": 5
}
